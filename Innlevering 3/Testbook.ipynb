{
 "cells": [
  {
   "cell_type": "code",
   "execution_count": 3,
   "metadata": {},
   "outputs": [],
   "source": [
    "\n",
    "import configparser  # for reading the parameters file\n",
    "from pathlib import Path  # for paths of files\n",
    "import time  # for timing\n",
    "import random\n",
    "\n",
    "# Global parameters\n",
    "parameter_file = 'default_parameters.ini'  # the main parameters file\n",
    "# the main path were all the data directories are\n",
    "data_main_directory = Path('data')\n",
    "# dictionary that holds the input parameters, key = parameter name, value = value\n",
    "parameters_dictionary = dict()"
   ]
  },
  {
   "cell_type": "code",
   "execution_count": 8,
   "metadata": {},
   "outputs": [],
   "source": [
    "# DO NOT CHANGE THIS METHOD\n",
    "# Reads the parameters of the project from the parameter file 'file'\n",
    "# and stores them to the parameter dictionary 'parameters_dictionary'\n",
    "def read_parameters():\n",
    "    config = configparser.ConfigParser()\n",
    "    config.read(parameter_file)\n",
    "    for section in config.sections():\n",
    "        for key in config[section]:\n",
    "            if key == 'data':\n",
    "                parameters_dictionary[key] = config[section][key]\n",
    "            else:\n",
    "                parameters_dictionary[key] = int(config[section][key])\n",
    "\n",
    "# TASK 2\n",
    "def bloom_filter(new_pass, hashing_functions, bloom_filter_array):\n",
    "\n",
    "    # implement your code here\n",
    "    n = parameters_dictionary.get(\"n\")\n",
    "\n",
    "    # password = new_pass.h\n",
    "    return 0\n",
    "\n",
    "             \n",
    "def bloom_filter_array():\n",
    "    n = parameters_dictionary.get(\"n\")\n",
    "    return [0] * n\n",
    "\n",
    "# DO NOT CHANGE THIS METHOD\n",
    "# Reads all the passwords one by one simulating a stream and calls the method bloom_filter(new_password)\n",
    "# for each password read\n",
    "def read_data(file, hashing_functions):\n",
    "    time_sum = 0\n",
    "    pass_read = 0\n",
    "    array = bloom_filter_array()\n",
    "    with file.open() as f:\n",
    "        for line in f:\n",
    "            pass_read += 1\n",
    "            new_password = line[:-3]\n",
    "            ts = time.time()\n",
    "            bloom_filter(new_password, hashing_functions, array)\n",
    "            te = time.time()\n",
    "            time_sum += te - ts\n",
    "\n",
    "    return pass_read, time_sum\n",
    "\n",
    "def is_prime(n):\n",
    "    if n == 2 or n == 3:\n",
    "        return True\n",
    "    if n < 2 or n % 2 == 0:\n",
    "        return False\n",
    "    if n < 9:\n",
    "        return True\n",
    "    if n % 3 == 0:\n",
    "        return False\n",
    "    r = int(n**0.5)\n",
    "    f = 5\n",
    "    while f <= r:\n",
    "        if n % f == 0:\n",
    "            return False\n",
    "        if n % (f+2) == 0:\n",
    "            return False\n",
    "        f += 6\n",
    "    return True\n"
   ]
  },
  {
   "cell_type": "code",
   "execution_count": 11,
   "metadata": {},
   "outputs": [],
   "source": [
    "# TASK 1\n",
    "# Created h number of hash functions\n",
    "def hash_functions():\n",
    "\n",
    "    # implement your code here\n",
    "    h = parameters_dictionary.get(\"h\")\n",
    "    print(h)\n",
    "    n = parameters_dictionary.get(\"n\")\n",
    "    primes = []\n",
    "    hash_functions = []\n",
    "\n",
    "    for i in range(h):\n",
    "        cont = True\n",
    "        while cont:\n",
    "            # Generate a random number in the range [lower_bound, upper_bound]\n",
    "            p = random.randint(0, 10000)\n",
    "\n",
    "            # Check if the number is prime\n",
    "            if is_prime(p) & p not in primes:\n",
    "                cont = False\n",
    "                primes.append(p)\n",
    "\n",
    "        def hash_function(s):\n",
    "            num = 0\n",
    "            for i in range(len(s)):\n",
    "                num += s[i] * p ** i\n",
    "            return num % n\n",
    "        hash_functions.append(hash_function)\n",
    "\n",
    "    return hash_functions"
   ]
  },
  {
   "cell_type": "code",
   "execution_count": 12,
   "metadata": {},
   "outputs": [
    {
     "name": "stdout",
     "output_type": "stream",
     "text": [
      "None\n"
     ]
    },
    {
     "ename": "TypeError",
     "evalue": "'NoneType' object cannot be interpreted as an integer",
     "output_type": "error",
     "traceback": [
      "\u001b[1;31m---------------------------------------------------------------------------\u001b[0m",
      "\u001b[1;31mTypeError\u001b[0m                                 Traceback (most recent call last)",
      "Cell \u001b[1;32mIn[12], line 1\u001b[0m\n\u001b[1;32m----> 1\u001b[0m funks \u001b[39m=\u001b[39m hash_functions()\n",
      "Cell \u001b[1;32mIn[11], line 12\u001b[0m, in \u001b[0;36mhash_functions\u001b[1;34m()\u001b[0m\n\u001b[0;32m      9\u001b[0m primes \u001b[39m=\u001b[39m []\n\u001b[0;32m     10\u001b[0m hash_functions \u001b[39m=\u001b[39m []\n\u001b[1;32m---> 12\u001b[0m \u001b[39mfor\u001b[39;00m i \u001b[39min\u001b[39;00m \u001b[39mrange\u001b[39;49m(h):\n\u001b[0;32m     13\u001b[0m     cont \u001b[39m=\u001b[39m \u001b[39mTrue\u001b[39;00m\n\u001b[0;32m     14\u001b[0m     \u001b[39mwhile\u001b[39;00m cont:\n\u001b[0;32m     15\u001b[0m         \u001b[39m# Generate a random number in the range [lower_bound, upper_bound]\u001b[39;00m\n",
      "\u001b[1;31mTypeError\u001b[0m: 'NoneType' object cannot be interpreted as an integer"
     ]
    }
   ],
   "source": [
    "funks = hash_functions()"
   ]
  },
  {
   "cell_type": "code",
   "execution_count": 6,
   "metadata": {},
   "outputs": [],
   "source": [
    "# TASK 2\n",
    "def bloom_filter(new_pass, hashing_functions, bloom_filter_array):\n",
    "\n",
    "    # implement your code here\n",
    "    n = parameters_dictionary.get(\"n\")\n",
    "\n",
    "    # password = new_pass.h\n",
    "    return 0"
   ]
  },
  {
   "cell_type": "code",
   "execution_count": null,
   "metadata": {},
   "outputs": [],
   "source": []
  }
 ],
 "metadata": {
  "kernelspec": {
   "display_name": "Python 3",
   "language": "python",
   "name": "python3"
  },
  "language_info": {
   "codemirror_mode": {
    "name": "ipython",
    "version": 3
   },
   "file_extension": ".py",
   "mimetype": "text/x-python",
   "name": "python",
   "nbconvert_exporter": "python",
   "pygments_lexer": "ipython3",
   "version": "3.10.7"
  },
  "orig_nbformat": 4
 },
 "nbformat": 4,
 "nbformat_minor": 2
}
